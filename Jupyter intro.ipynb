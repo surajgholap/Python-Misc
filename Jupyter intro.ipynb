{
 "cells": [
  {
   "cell_type": "code",
   "execution_count": 1,
   "metadata": {
    "scrolled": true
   },
   "outputs": [],
   "source": [
    "import numpy as np"
   ]
  },
  {
   "cell_type": "code",
   "execution_count": 2,
   "metadata": {},
   "outputs": [],
   "source": [
    "np.sin? # ? gives info about the function"
   ]
  },
  {
   "cell_type": "code",
   "execution_count": 24,
   "metadata": {},
   "outputs": [
    {
     "data": {
      "text/plain": [
       "array([False, False])"
      ]
     },
     "execution_count": 24,
     "metadata": {},
     "output_type": "execute_result"
    }
   ],
   "source": [
    "np.all([[False, False], [True, False]], axis=0) # all performs logical AND operation, axis=1 => x"
   ]
  },
  {
   "cell_type": "code",
   "execution_count": 25,
   "metadata": {},
   "outputs": [
    {
     "data": {
      "text/plain": [
       "array([ True, False])"
      ]
     },
     "execution_count": 25,
     "metadata": {},
     "output_type": "execute_result"
    }
   ],
   "source": [
    "np.any([[False, False], [True, False]], axis=0) # any performs logical OR operation, axis=0 => Y"
   ]
  },
  {
   "cell_type": "code",
   "execution_count": 37,
   "metadata": {},
   "outputs": [
    {
     "name": "stdout",
     "output_type": "stream",
     "text": [
      "bcmwl-kernel-source_6.30.223.271+bdcom-0ubuntu4_amd64.deb  Public\r\n",
      "bin\t\t\t\t\t\t\t   scala-2.12.1.deb\r\n",
      "Desktop\t\t\t\t\t\t\t   sudo\r\n",
      "Documents\t\t\t\t\t\t   Suraj\r\n",
      "Downloads\t\t\t\t\t\t   target\r\n",
      "examples.desktop\t\t\t\t\t   Templates\r\n",
      "Exp.mp3\t\t\t\t\t\t\t   Untitled.ipynb\r\n",
      "IdeaProjects\t\t\t\t\t\t   Videos\r\n",
      "Music\t\t\t\t\t\t\t   VirtualBox VMs\r\n",
      "Pictures\t\t\t\t\t\t   workspace\r\n",
      "project\t\t\t\t\t\t\t   Workspace\r\n"
     ]
    }
   ],
   "source": [
    "!ls # % to run bash commands"
   ]
  },
  {
   "cell_type": "code",
   "execution_count": 30,
   "metadata": {},
   "outputs": [
    {
     "name": "stdout",
     "output_type": "stream",
     "text": [
      "-0.9589242746631385\n",
      "-0.9589242746631385\n",
      "-0.9589242746631385\n",
      "-0.9589242746631385\n",
      "CPU times: user 273 µs, sys: 54 µs, total: 327 µs\n",
      "Wall time: 335 µs\n"
     ]
    }
   ],
   "source": [
    "%%time\n",
    "for i in range(4):\n",
    "    print(np.sin(5)) # %%time - gives info about single run of the code in your cell"
   ]
  },
  {
   "cell_type": "code",
   "execution_count": 34,
   "metadata": {},
   "outputs": [
    {
     "name": "stdout",
     "output_type": "stream",
     "text": [
      "3.27 µs ± 114 ns per loop (mean ± std. dev. of 7 runs, 100000 loops each)\n"
     ]
    }
   ],
   "source": [
    "%timeit np.random.normal(100) #runs a statement 100,000 times and then provides the mean of fast3"
   ]
  },
  {
   "cell_type": "code",
   "execution_count": 36,
   "metadata": {},
   "outputs": [],
   "source": [
    "%magic   # gives all the magic commands"
   ]
  },
  {
   "cell_type": "code",
   "execution_count": 38,
   "metadata": {},
   "outputs": [
    {
     "name": "stdout",
     "output_type": "stream",
     "text": [
      "bcmwl-kernel-source_6.30.223.271+bdcom-0ubuntu4_amd64.deb  Public\r\n",
      "bin\t\t\t\t\t\t\t   scala-2.12.1.deb\r\n",
      "Desktop\t\t\t\t\t\t\t   sudo\r\n",
      "Documents\t\t\t\t\t\t   Suraj\r\n",
      "Downloads\t\t\t\t\t\t   target\r\n",
      "examples.desktop\t\t\t\t\t   Templates\r\n",
      "Exp.mp3\t\t\t\t\t\t\t   Untitled.ipynb\r\n",
      "IdeaProjects\t\t\t\t\t\t   Videos\r\n",
      "Music\t\t\t\t\t\t\t   VirtualBox VMs\r\n",
      "Pictures\t\t\t\t\t\t   workspace\r\n",
      "project\t\t\t\t\t\t\t   Workspace\r\n"
     ]
    }
   ],
   "source": [
    "dir_name = '/home/suraj'\n",
    "!ls $dir_name"
   ]
  },
  {
   "cell_type": "code",
   "execution_count": 39,
   "metadata": {},
   "outputs": [
    {
     "name": "stdout",
     "output_type": "stream",
     "text": [
      "we have 11 files at /home/suraj\n"
     ]
    }
   ],
   "source": [
    "print('we have {} files at {}'.format(len(dir_name),dir_name))"
   ]
  },
  {
   "cell_type": "markdown",
   "metadata": {},
   "source": [
    "We have markdown to write text for commentation\n",
    "* hello\n",
    "* what is up?\n",
    "# Header\n",
    "![](https://vignette.wikia.nocookie.net/blogclan-2/images/4/45/Random-turtle.gif/revision/latest?cb=20160706220110)\n",
    "[Pandas](www.pandas.org) for Pandas Documentation \n",
    "Area of circle equation: $3.14*r^2$"
   ]
  },
  {
   "cell_type": "code",
   "execution_count": 1,
   "metadata": {},
   "outputs": [
    {
     "ename": "ModuleNotFoundError",
     "evalue": "No module named 'implicit'",
     "output_type": "error",
     "traceback": [
      "\u001b[0;31m---------------------------------------------------------------------------\u001b[0m",
      "\u001b[0;31mModuleNotFoundError\u001b[0m                       Traceback (most recent call last)",
      "\u001b[0;32m<ipython-input-1-1eb90d3051a8>\u001b[0m in \u001b[0;36m<module>\u001b[0;34m()\u001b[0m\n\u001b[0;32m----> 1\u001b[0;31m \u001b[0;32mimport\u001b[0m \u001b[0mimplicit\u001b[0m\u001b[0;34m\u001b[0m\u001b[0m\n\u001b[0m",
      "\u001b[0;31mModuleNotFoundError\u001b[0m: No module named 'implicit'"
     ]
    }
   ],
   "source": [
    "import implicit"
   ]
  }
 ],
 "metadata": {
  "kernelspec": {
   "display_name": "Python 3",
   "language": "python",
   "name": "python3"
  },
  "language_info": {
   "codemirror_mode": {
    "name": "ipython",
    "version": 3
   },
   "file_extension": ".py",
   "mimetype": "text/x-python",
   "name": "python",
   "nbconvert_exporter": "python",
   "pygments_lexer": "ipython3",
   "version": "3.6.5"
  }
 },
 "nbformat": 4,
 "nbformat_minor": 2
}
